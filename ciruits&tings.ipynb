{
 "cells": [
  {
   "cell_type": "code",
   "execution_count": 1,
   "id": "e448db6c-54ab-478c-8cfe-741b50fe2bc3",
   "metadata": {
    "tags": []
   },
   "outputs": [],
   "source": [
    "# Importing standard Qiskit libraries\n",
    "from qiskit import QuantumCircuit, transpile\n",
    "from qiskit.tools.jupyter import *\n",
    "from qiskit.visualization import *\n",
    "from ibm_quantum_widgets import *\n",
    "\n",
    "# qiskit-ibmq-provider has been deprecated.\n",
    "# Please see the Migration Guides in https://ibm.biz/provider_migration_guide for more detail.\n",
    "from qiskit_ibm_runtime import QiskitRuntimeService, Sampler, Estimator, Session, Options\n",
    "\n",
    "# Loading your IBM Quantum account(s)\n",
    "service = QiskitRuntimeService(channel=\"ibm_quantum\")\n",
    "\n",
    "# Invoke a primitive. For more details see https://qiskit.org/documentation/partners/qiskit_ibm_runtime/tutorials.html\n",
    "# result = Sampler(\"ibmq_qasm_simulator\").run(circuits).result()"
   ]
  },
  {
   "cell_type": "code",
   "execution_count": 3,
   "id": "2e1803e4-78de-4f3c-8360-855df957bad8",
   "metadata": {
    "tags": []
   },
   "outputs": [],
   "source": [
    "from qiskit import *"
   ]
  },
  {
   "cell_type": "code",
   "execution_count": 4,
   "id": "80f8d72f-242c-4148-9923-c4197d075f7a",
   "metadata": {
    "tags": []
   },
   "outputs": [
    {
     "data": {
      "image/png": "[encoded data removed]",
      "text/plain": [
       "<Figure size 454.517x284.278 with 1 Axes>"
      ]
     },
     "execution_count": 4,
     "metadata": {},
     "output_type": "execute_result"
    }
   ],
   "source": [
    "circuit=QuantumCircuit(2,2)\n",
    "circuit.h(0)\n",
    "circuit.cx(0,1)\n",
    "circuit.measure([0,1],[0,1])\n",
    "circuit.draw()"
   ]
  },
  {
   "cell_type": "code",
   "execution_count": 5,
   "id": "2bbc10e8-e057-4d9a-aa6f-b36d311eac78",
   "metadata": {
    "tags": []
   },
   "outputs": [],
   "source": [
    "from qiskit import Aer"
   ]
  },
  {
   "cell_type": "code",
   "execution_count": 6,
   "id": "c438e6f4-b955-4ca4-9b6a-f3668e11e6b6",
   "metadata": {
    "tags": []
   },
   "outputs": [],
   "source": [
    "simulator = Aer.get_backend('qasm_simulator')"
   ]
  },
  {
   "cell_type": "code",
   "execution_count": 7,
   "id": "01ae2e1a-758b-4a07-87bc-2deca2ab3e61",
   "metadata": {
    "tags": []
   },
   "outputs": [],
   "source": [
    "result=execute(circuit,backend=simulator).result()"
   ]
  },
  {
   "cell_type": "code",
   "execution_count": 9,
   "id": "ef5a402a-d7b7-44e5-881b-bee77b6d7a50",
   "metadata": {
    "tags": []
   },
   "outputs": [],
   "source": [
    "from qiskit.visualization import plot_histogram"
   ]
  },
  {
   "cell_type": "code",
   "execution_count": 10,
   "id": "1e4d2837-00ae-410b-9f96-a0ced913c0d1",
   "metadata": {
    "tags": []
   },
   "outputs": [
    {
     "data": {
      "image/png": "[encoded data removed]",
      "text/plain": [
       "<Figure size 700x500 with 1 Axes>"
      ]
     },
     "execution_count": 10,
     "metadata": {},
     "output_type": "execute_result"
    }
   ],
   "source": [
    "plot_histogram(result.get_counts(circuit))"
   ]
  },
  {
   "cell_type": "code",
   "execution_count": 11,
   "id": "f1102803-71d9-4e2c-8dad-d779e65bbea4",
   "metadata": {
    "tags": []
   },
   "outputs": [
    {
     "name": "stderr",
     "output_type": "stream",
     "text": [
      "/tmp/ipykernel_143/485379158.py:1: DeprecationWarning: The package qiskit.providers.ibmq is being deprecated. Please see https://ibm.biz/provider_migration_guide to get instructions on how to migrate to qiskit-ibm-provider (https://github.com/Qiskit/qiskit-ibm-provider) and qiskit-ibm-runtime (https://github.com/Qiskit/qiskit-ibm-runtime).\n",
      "  IBMQ.load_account()\n",
      "/tmp/ipykernel_143/485379158.py:1: DeprecationWarning: The qiskit.IBMQ entrypoint and the qiskit-ibmq-provider package (accessible from 'qiskit.providers.ibmq`) are deprecated and will be removed in a future release. Instead you should use the qiskit-ibm-provider package which is accessible from 'qiskit_ibm_provider'. You can install it with 'pip install qiskit_ibm_provider'. Just replace 'qiskit.IBMQ' with 'qiskit_ibm_provider.IBMProvider'\n",
      "  IBMQ.load_account()\n"
     ]
    },
    {
     "data": {
      "text/plain": [
       "<AccountProvider for IBMQ(hub='ibm-q', group='open', project='main')>"
      ]
     },
     "execution_count": 11,
     "metadata": {},
     "output_type": "execute_result"
    }
   ],
   "source": [
    "IBMQ.load_account()"
   ]
  },
  {
   "cell_type": "code",
   "execution_count": 12,
   "id": "f3da00d5-bf38-42b0-9965-40447b748646",
   "metadata": {
    "tags": []
   },
   "outputs": [],
   "source": [
    "provider = IBMQ.get_provider(\"ibm-q\")"
   ]
  },
  {
   "cell_type": "code",
   "execution_count": 14,
   "id": "d3c5a33b-a6b1-4db6-95d8-ee995ca16250",
   "metadata": {
    "tags": []
   },
   "outputs": [],
   "source": [
    "quantum_computer =  provider.get_backend('ibmq_lima')"
   ]
  },
  {
   "cell_type": "code",
   "execution_count": null,
   "id": "41fb9af3-405c-44c4-8f29-b7dfafdc3d89",
   "metadata": {
    "tags": []
   },
   "outputs": [],
   "source": [
    "import qiskit.tools.jupyter\n",
    "%qiskit_job_watcher\n",
    "\n",
    "job=execute(circuit,backend=quantum_computer)"
   ]
  },
  {
   "cell_type": "code",
   "execution_count": null,
   "id": "a6021955-70c0-4c20-aad4-e17589cb0e4f",
   "metadata": {
    "tags": []
   },
   "outputs": [],
   "source": [
    "from qiskit.tools.monitor import job_monitor\n",
    "job_monitor(job)"
   ]
  }
 ],
 "metadata": {
  "kernelspec": {
   "display_name": "Python 3 (ipykernel)",
   "language": "python",
   "name": "python3"
  },
  "language_info": {
   "codemirror_mode": {
    "name": "ipython",
    "version": 3
   },
   "file_extension": ".py",
   "mimetype": "text/x-python",
   "name": "python",
   "nbconvert_exporter": "python",
   "pygments_lexer": "ipython3",
   "version": "3.10.8"
  },
  "widgets": {
   "application/vnd.jupyter.widget-state+json": {
    "state": {
     "004e642986d34959a27495b6b3f420e9": {
      "model_module": "@jupyter-widgets/controls",
      "model_module_version": "2.0.0",
      "model_name": "HTMLModel",
      "state": {
       "layout": "IPY_MODEL_d70af8bf37694f77bce8959c2f8a5ea0",
       "style": "IPY_MODEL_4fa2f970a3eb40a98ece36f695f6d5cd",
       "value": "QUEUED"
      }
     },
     "01653f84032e43f9bd76769e1824c5f9": {
      "model_module": "@jupyter-widgets/base",
      "model_module_version": "2.0.0",
      "model_name": "LayoutModel",
      "state": {
       "grid_area": "right",
       "padding": "0px 0px 0px 0px",
       "width": "70px"
      }
     },
     "04619d0a8c7f453aa42c9ef3b49c8b0a": {
      "model_module": "@jupyter-widgets/base",
      "model_module_version": "2.0.0",
      "model_name": "LayoutModel",
      "state": {
       "width": "190px"
      }
     },
     "0557c42c44344dc98f685d93854f95ee": {
      "model_module": "@jupyter-widgets/controls",
      "model_module_version": "2.0.0",
      "model_name": "HTMLStyleModel",
      "state": {
       "description_width": "",
       "font_size": null,
       "text_color": null
      }
     },
     "07fd90e433df42cfbff12d2311bb001d": {
      "model_module": "@jupyter-widgets/base",
      "model_module_version": "2.0.0",
      "model_name": "LayoutModel",
      "state": {}
     },
     "0ab69f4692a34acfbf3210cdfdcc2b8d": {
      "model_module": "@jupyter-widgets/controls",
      "model_module_version": "2.0.0",
      "model_name": "ButtonModel",
      "state": {
       "icon": "close",
       "layout": "IPY_MODEL_7a7b5ae7f7f84fbe82348f6c6ca237a4",
       "style": "IPY_MODEL_ffe299a9d33a4405bba9d86bf76e6b7f",
       "tooltip": null
      }
     },
     "0c3ae4b4f6394948a61c335cb1cc6f0a": {
      "model_module": "@jupyter-widgets/controls",
      "model_module_version": "2.0.0",
      "model_name": "HTMLModel",
      "state": {
       "layout": "IPY_MODEL_e2384329c72d426aab82a18fd9a4c014",
       "style": "IPY_MODEL_416c3dbf1ae04f1c97e95895663f8678",
       "value": "ck0pm9ak1qvd8t988k50"
      }
     },
     "0ffb7079c91b414aa58f9de775dce831": {
      "model_module": "@jupyter-widgets/controls",
      "model_module_version": "2.0.0",
      "model_name": "HTMLModel",
      "state": {
       "layout": "IPY_MODEL_420aacf79dd2491282fa7424bd40d2a6",
       "style": "IPY_MODEL_b8610f2c0bd342da8e9946a8310d1a0f",
       "value": "-"
      }
     },
     "105b20527c134d9fa5523a6eb56d2609": {
      "model_module": "@jupyter-widgets/base",
      "model_module_version": "2.0.0",
      "model_name": "LayoutModel",
      "state": {
       "max_width": "700px",
       "min_width": "700px"
      }
     },
     "16d659bffd114b8481a9926f656ee5fa": {
      "model_module": "@jupyter-widgets/base",
      "model_module_version": "2.0.0",
      "model_name": "LayoutModel",
      "state": {
       "width": "95px"
      }
     },
     "1790c908bb3949c2a780d43e9aed1f7a": {
      "model_module": "@jupyter-widgets/controls",
      "model_module_version": "2.0.0",
      "model_name": "GridBoxModel",
      "state": {
       "children": [
        "IPY_MODEL_1c4a79af5c1848ea87049f2f208df0c8"
       ],
       "layout": "IPY_MODEL_4c64800c7fc1467c9d94359c79312636"
      }
     },
     "1b20bc7cc4cc47de934c45e6dcda9597": {
      "model_module": "@jupyter-widgets/base",
      "model_module_version": "2.0.0",
      "model_name": "LayoutModel",
      "state": {
       "width": "145px"
      }
     },
     "1c4a79af5c1848ea87049f2f208df0c8": {
      "model_module": "@jupyter-widgets/controls",
      "model_module_version": "2.0.0",
      "model_name": "ButtonModel",
      "state": {
       "button_style": "primary",
       "description": "Clear",
       "layout": "IPY_MODEL_01653f84032e43f9bd76769e1824c5f9",
       "style": "IPY_MODEL_74898590292c4a79af2f7a7a37787682",
       "tooltip": null
      }
     },
     "32f7ebfdd1784bbeaaaa9c80a755708c": {
      "model_module": "@jupyter-widgets/base",
      "model_module_version": "2.0.0",
      "model_name": "LayoutModel",
      "state": {}
     },
     "416c3dbf1ae04f1c97e95895663f8678": {
      "model_module": "@jupyter-widgets/controls",
      "model_module_version": "2.0.0",
      "model_name": "HTMLStyleModel",
      "state": {
       "description_width": "",
       "font_size": null,
       "text_color": null
      }
     },
     "420aacf79dd2491282fa7424bd40d2a6": {
      "model_module": "@jupyter-widgets/base",
      "model_module_version": "2.0.0",
      "model_name": "LayoutModel",
      "state": {
       "width": "70px"
      }
     },
     "4664137a873049fa9a1702d665fe5ffb": {
      "model_module": "@jupyter-widgets/base",
      "model_module_version": "2.0.0",
      "model_name": "LayoutModel",
      "state": {
       "max_width": "710px",
       "min_width": "710px"
      }
     },
     "4c64800c7fc1467c9d94359c79312636": {
      "model_module": "@jupyter-widgets/base",
      "model_module_version": "2.0.0",
      "model_name": "LayoutModel",
      "state": {
       "grid_template_areas": "\n                                       \". . . . right \"\n                                        ",
       "grid_template_columns": "20% 20% 20% 20% 20%",
       "width": "100%"
      }
     },
     "4fa2f970a3eb40a98ece36f695f6d5cd": {
      "model_module": "@jupyter-widgets/controls",
      "model_module_version": "2.0.0",
      "model_name": "HTMLStyleModel",
      "state": {
       "description_width": "",
       "font_size": null,
       "text_color": null
      }
     },
     "50523a829ca14a0b85ff537d5439cd1d": {
      "model_module": "@jupyter-widgets/controls",
      "model_module_version": "2.0.0",
      "model_name": "HTMLStyleModel",
      "state": {
       "description_width": "",
       "font_size": null,
       "text_color": null
      }
     },
     "59fe283ceebb430fb48a5a8570b46bfb": {
      "model_module": "@jupyter-widgets/controls",
      "model_module_version": "2.0.0",
      "model_name": "HTMLStyleModel",
      "state": {
       "description_width": "",
       "font_size": null,
       "text_color": null
      }
     },
     "62732e0e47dc4349bafeaeb7dd82ff7a": {
      "model_module": "@jupyter-widgets/base",
      "model_module_version": "2.0.0",
      "model_name": "LayoutModel",
      "state": {
       "margin": "0px 0px 0px 37px",
       "width": "600px"
      }
     },
     "6c558da50d0d44f6acb3567b9079f458": {
      "model_module": "@jupyter-widgets/base",
      "model_module_version": "2.0.0",
      "model_name": "LayoutModel",
      "state": {
       "width": "70px"
      }
     },
     "6cab6f05041f431284ffbe40f6b73c81": {
      "model_module": "@jupyter-widgets/controls",
      "model_module_version": "2.0.0",
      "model_name": "HTMLModel",
      "state": {
       "layout": "IPY_MODEL_c3112eb851094dfdbce5f3bf41342071",
       "style": "IPY_MODEL_0557c42c44344dc98f685d93854f95ee",
       "value": "<h5>Backend</h5>"
      }
     },
     "6f3fcba969f3462c93d7b1a382c13d0d": {
      "model_module": "@jupyter-widgets/controls",
      "model_module_version": "2.0.0",
      "model_name": "HTMLStyleModel",
      "state": {
       "description_width": "",
       "font_size": null,
       "text_color": null
      }
     },
     "74898590292c4a79af2f7a7a37787682": {
      "model_module": "@jupyter-widgets/controls",
      "model_module_version": "2.0.0",
      "model_name": "ButtonStyleModel",
      "state": {
       "font_family": null,
       "font_size": null,
       "font_style": null,
       "font_variant": null,
       "font_weight": null,
       "text_color": null,
       "text_decoration": null
      }
     },
     "7a7b5ae7f7f84fbe82348f6c6ca237a4": {
      "model_module": "@jupyter-widgets/base",
      "model_module_version": "2.0.0",
      "model_name": "LayoutModel",
      "state": {
       "margin": "0px 5px 0px 0px",
       "width": "32px"
      }
     },
     "7ec37c31c0d64202b02317f61b2e2c33": {
      "model_module": "@jupyter-widgets/controls",
      "model_module_version": "2.0.0",
      "model_name": "HTMLStyleModel",
      "state": {
       "description_width": "",
       "font_size": null,
       "text_color": null
      }
     },
     "82aea00fb38d463eb123fedc540e3729": {
      "model_module": "@jupyter-widgets/base",
      "model_module_version": "2.0.0",
      "model_name": "LayoutModel",
      "state": {
       "margin": "0px 0px 10px 0px"
      }
     },
     "835240236e404a54aa8f874bed48fd7b": {
      "model_module": "@jupyter-widgets/controls",
      "model_module_version": "2.0.0",
      "model_name": "HTMLStyleModel",
      "state": {
       "description_width": "",
       "font_size": null,
       "text_color": null
      }
     },
     "a614fc8d2f7a416e9843d639601e479e": {
      "model_module": "@jupyter-widgets/controls",
      "model_module_version": "2.0.0",
      "model_name": "HBoxModel",
      "state": {
       "children": [
        "IPY_MODEL_0ab69f4692a34acfbf3210cdfdcc2b8d",
        "IPY_MODEL_0c3ae4b4f6394948a61c335cb1cc6f0a",
        "IPY_MODEL_c56c45124ff34709885b83e71b4d5cfd",
        "IPY_MODEL_004e642986d34959a27495b6b3f420e9",
        "IPY_MODEL_0ffb7079c91b414aa58f9de775dce831",
        "IPY_MODEL_cbd942d7033748d28f4c84fd7c557d8f"
       ],
       "layout": "IPY_MODEL_105b20527c134d9fa5523a6eb56d2609"
      }
     },
     "b82654a9682046b7ac13f58e1484a81e": {
      "model_module": "@jupyter-widgets/controls",
      "model_module_version": "2.0.0",
      "model_name": "HTMLStyleModel",
      "state": {
       "description_width": "",
       "font_size": null,
       "text_color": null
      }
     },
     "b8610f2c0bd342da8e9946a8310d1a0f": {
      "model_module": "@jupyter-widgets/controls",
      "model_module_version": "2.0.0",
      "model_name": "HTMLStyleModel",
      "state": {
       "description_width": "",
       "font_size": null,
       "text_color": null
      }
     },
     "bb82b1b9fc2647269d00de465cf4eed0": {
      "model_module": "@jupyter-widgets/controls",
      "model_module_version": "2.0.0",
      "model_name": "HTMLModel",
      "state": {
       "layout": "IPY_MODEL_16d659bffd114b8481a9926f656ee5fa",
       "style": "IPY_MODEL_835240236e404a54aa8f874bed48fd7b",
       "value": "<h5>Status</h5>"
      }
     },
     "bc17971331aa42efbcf4bc624c4ab997": {
      "model_module": "@jupyter-widgets/controls",
      "model_module_version": "2.0.0",
      "model_name": "HTMLModel",
      "state": {
       "layout": "IPY_MODEL_04619d0a8c7f453aa42c9ef3b49c8b0a",
       "style": "IPY_MODEL_6f3fcba969f3462c93d7b1a382c13d0d",
       "value": "<h5>Job ID</h5>"
      }
     },
     "c230a1bf45524215ade1fa48e160a60d": {
      "model_module": "@jupyter-widgets/controls",
      "model_module_version": "2.0.0",
      "model_name": "HTMLStyleModel",
      "state": {
       "description_width": "",
       "font_size": null,
       "text_color": null
      }
     },
     "c3112eb851094dfdbce5f3bf41342071": {
      "model_module": "@jupyter-widgets/base",
      "model_module_version": "2.0.0",
      "model_name": "LayoutModel",
      "state": {
       "width": "145px"
      }
     },
     "c56c45124ff34709885b83e71b4d5cfd": {
      "model_module": "@jupyter-widgets/controls",
      "model_module_version": "2.0.0",
      "model_name": "HTMLModel",
      "state": {
       "layout": "IPY_MODEL_1b20bc7cc4cc47de934c45e6dcda9597",
       "style": "IPY_MODEL_50523a829ca14a0b85ff537d5439cd1d",
       "value": "ibmq_lima"
      }
     },
     "cbd942d7033748d28f4c84fd7c557d8f": {
      "model_module": "@jupyter-widgets/controls",
      "model_module_version": "2.0.0",
      "model_name": "HTMLModel",
      "state": {
       "layout": "IPY_MODEL_07fd90e433df42cfbff12d2311bb001d",
       "style": "IPY_MODEL_7ec37c31c0d64202b02317f61b2e2c33",
       "value": "<p style=white-space:nowrap;>job is queued</p>"
      }
     },
     "d45304d65c4d4dd6a853d3e1152a6861": {
      "model_module": "@jupyter-widgets/controls",
      "model_module_version": "2.0.0",
      "model_name": "HBoxModel",
      "state": {
       "children": [
        "IPY_MODEL_bc17971331aa42efbcf4bc624c4ab997",
        "IPY_MODEL_6cab6f05041f431284ffbe40f6b73c81",
        "IPY_MODEL_bb82b1b9fc2647269d00de465cf4eed0",
        "IPY_MODEL_f4f558f9f34d456fb668b5576705d00f",
        "IPY_MODEL_de07bab926fc42cea7d839c27f46f263"
       ],
       "layout": "IPY_MODEL_62732e0e47dc4349bafeaeb7dd82ff7a"
      }
     },
     "d4f78d2409d14fabb1948b39351759f8": {
      "model_module": "@jupyter-widgets/controls",
      "model_module_version": "2.0.0",
      "model_name": "VBoxModel",
      "state": {
       "children": [
        "IPY_MODEL_1790c908bb3949c2a780d43e9aed1f7a",
        "IPY_MODEL_d45304d65c4d4dd6a853d3e1152a6861",
        "IPY_MODEL_a614fc8d2f7a416e9843d639601e479e"
       ],
       "layout": "IPY_MODEL_4664137a873049fa9a1702d665fe5ffb"
      }
     },
     "d70af8bf37694f77bce8959c2f8a5ea0": {
      "model_module": "@jupyter-widgets/base",
      "model_module_version": "2.0.0",
      "model_name": "LayoutModel",
      "state": {
       "width": "95px"
      }
     },
     "de07bab926fc42cea7d839c27f46f263": {
      "model_module": "@jupyter-widgets/controls",
      "model_module_version": "2.0.0",
      "model_name": "HTMLModel",
      "state": {
       "layout": "IPY_MODEL_32f7ebfdd1784bbeaaaa9c80a755708c",
       "style": "IPY_MODEL_b82654a9682046b7ac13f58e1484a81e",
       "value": "<h5>Message</h5>"
      }
     },
     "e2384329c72d426aab82a18fd9a4c014": {
      "model_module": "@jupyter-widgets/base",
      "model_module_version": "2.0.0",
      "model_name": "LayoutModel",
      "state": {
       "width": "190px"
      }
     },
     "eb9ef5a94bcf41909089e4166406710e": {
      "model_module": "@jupyter-widgets/controls",
      "model_module_version": "2.0.0",
      "model_name": "HTMLModel",
      "state": {
       "layout": "IPY_MODEL_82aea00fb38d463eb123fedc540e3729",
       "style": "IPY_MODEL_59fe283ceebb430fb48a5a8570b46bfb",
       "value": "<p style='font-family: IBM Plex Sans, Arial, Helvetica, sans-serif; font-size: 20px; font-weight: medium;'>Circuit Properties</p>"
      }
     },
     "f2b3192995c44cc2994b173151cc7b1a": {
      "model_module": "@jupyter-widgets/controls",
      "model_module_version": "2.0.0",
      "model_name": "AccordionModel",
      "state": {
       "_dom_classes": [
        "job_widget"
       ],
       "children": [
        "IPY_MODEL_d4f78d2409d14fabb1948b39351759f8"
       ],
       "layout": "IPY_MODEL_fd60ee4ab162413b84a4253c07fdefcd",
       "titles": [
        "IBMQ Jobs"
       ]
      }
     },
     "f4f558f9f34d456fb668b5576705d00f": {
      "model_module": "@jupyter-widgets/controls",
      "model_module_version": "2.0.0",
      "model_name": "HTMLModel",
      "state": {
       "layout": "IPY_MODEL_6c558da50d0d44f6acb3567b9079f458",
       "style": "IPY_MODEL_c230a1bf45524215ade1fa48e160a60d",
       "value": "<h5>Queue</h5>"
      }
     },
     "fd60ee4ab162413b84a4253c07fdefcd": {
      "model_module": "@jupyter-widgets/base",
      "model_module_version": "2.0.0",
      "model_name": "LayoutModel",
      "state": {
       "max_height": "500px",
       "max_width": "750px",
       "visibility": "visible",
       "width": "auto"
      }
     },
     "ffe299a9d33a4405bba9d86bf76e6b7f": {
      "model_module": "@jupyter-widgets/controls",
      "model_module_version": "2.0.0",
      "model_name": "ButtonStyleModel",
      "state": {
       "button_color": "white",
       "font_family": null,
       "font_size": null,
       "font_style": null,
       "font_variant": null,
       "font_weight": null,
       "text_color": null,
       "text_decoration": null
      }
     }
    },
    "version_major": 2,
    "version_minor": 0
   }
  }
 },
 "nbformat": 4,
 "nbformat_minor": 5
}
