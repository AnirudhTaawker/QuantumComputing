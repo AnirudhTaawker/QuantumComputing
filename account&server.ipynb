{
 "cells": [
  {
   "cell_type": "code",
   "execution_count": 1,
   "id": "3ccfb197-7ee4-4315-a530-aacbf919ce29",
   "metadata": {
    "tags": []
   },
   "outputs": [],
   "source": [
    "# Importing standard Qiskit libraries\n",
    "from qiskit import QuantumCircuit, transpile\n",
    "from qiskit.tools.jupyter import *\n",
    "from qiskit.visualization import *\n",
    "from ibm_quantum_widgets import *\n",
    "\n",
    "# qiskit-ibmq-provider has been deprecated.\n",
    "# Please see the Migration Guides in https://ibm.biz/provider_migration_guide for more detail.\n",
    "from qiskit_ibm_runtime import QiskitRuntimeService, Sampler, Estimator, Session, Options\n",
    "\n",
    "# Loading your IBM Quantum account(s)\n",
    "service = QiskitRuntimeService(channel=\"ibm_quantum\")\n",
    "\n",
    "# Invoke a primitive. For more details see https://qiskit.org/documentation/partners/qiskit_ibm_runtime/tutorials.html\n",
    "# result = Sampler(\"ibmq_qasm_simulator\").run(circuits).result()"
   ]
  },
  {
   "cell_type": "code",
   "execution_count": 2,
   "id": "2a07a88b-67a6-4bb9-a631-ddcf0bc74892",
   "metadata": {
    "tags": []
   },
   "outputs": [],
   "source": [
    "from qiskit import *"
   ]
  },
  {
   "cell_type": "code",
   "execution_count": 3,
   "id": "bcb377b1-e700-4384-babe-42d98baaf5f5",
   "metadata": {
    "tags": []
   },
   "outputs": [
    {
     "name": "stderr",
     "output_type": "stream",
     "text": [
      "/tmp/ipykernel_111/572719568.py:1: DeprecationWarning: The qiskit.IBMQ entrypoint and the qiskit-ibmq-provider package (accessible from 'qiskit.providers.ibmq`) are deprecated and will be removed in a future release. Instead you should use the qiskit-ibm-provider package which is accessible from 'qiskit_ibm_provider'. You can install it with 'pip install qiskit_ibm_provider'. Just replace 'qiskit.IBMQ' with 'qiskit_ibm_provider.IBMProvider'\n",
      "  IBMQ.save_account(\"d882bf7ec8c77520af70a65da570cac0115bf0915c5de6d7fcd126a9f7e07d965eca9b13f9d795054a056f0b16f491aaf8d350868a6cc0169d3f6a51c5140195\")\n",
      "configrc.store_credentials:WARNING:2023-09-13 10:56:48,177: Credentials already present. Set overwrite=True to overwrite.\n"
     ]
    }
   ],
   "source": [
    "IBMQ.save_account(\"d882bf7ec8c77520af70a65da570cac0115bf0915c5de6d7fcd126a9f7e07d965eca9b13f9d795054a056f0b16f491aaf8d350868a6cc0169d3f6a51c5140195\")"
   ]
  },
  {
   "cell_type": "code",
   "execution_count": 4,
   "id": "6d3bcb20-65c0-486e-bab0-a5e7a8040bc1",
   "metadata": {
    "tags": []
   },
   "outputs": [
    {
     "data": {
      "text/plain": [
       "<AccountProvider for IBMQ(hub='ibm-q', group='open', project='main')>"
      ]
     },
     "execution_count": 4,
     "metadata": {},
     "output_type": "execute_result"
    }
   ],
   "source": [
    "IBMQ.load_account()"
   ]
  },
  {
   "cell_type": "code",
   "execution_count": 5,
   "id": "ac310a99-681a-47c6-8939-075bdd0ccdf2",
   "metadata": {
    "tags": []
   },
   "outputs": [
    {
     "data": {
      "text/plain": [
       "[AerSimulator('aer_simulator'),\n",
       " AerSimulator('aer_simulator_statevector'),\n",
       " AerSimulator('aer_simulator_density_matrix'),\n",
       " AerSimulator('aer_simulator_stabilizer'),\n",
       " AerSimulator('aer_simulator_matrix_product_state'),\n",
       " AerSimulator('aer_simulator_extended_stabilizer'),\n",
       " AerSimulator('aer_simulator_unitary'),\n",
       " AerSimulator('aer_simulator_superop'),\n",
       " QasmSimulator('qasm_simulator'),\n",
       " StatevectorSimulator('statevector_simulator'),\n",
       " UnitarySimulator('unitary_simulator'),\n",
       " PulseSimulator('pulse_simulator')]"
      ]
     },
     "execution_count": 5,
     "metadata": {},
     "output_type": "execute_result"
    }
   ],
   "source": [
    "Aer.backends()"
   ]
  },
  {
   "cell_type": "code",
   "execution_count": 6,
   "id": "6a973872-96cc-4d6b-bd05-1b038a59f497",
   "metadata": {
    "tags": []
   },
   "outputs": [],
   "source": [
    "provider = IBMQ.get_provider(\"ibm-q\")"
   ]
  },
  {
   "cell_type": "raw",
   "id": "eadc82a4-3b7a-4324-beec-4abd83a0efef",
   "metadata": {},
   "source": [
    "provider.backends()"
   ]
  },
  {
   "cell_type": "code",
   "execution_count": 7,
   "id": "2208fca4-d885-41e4-a424-92223a2356a1",
   "metadata": {
    "tags": []
   },
   "outputs": [
    {
     "data": {
      "text/plain": [
       "[<IBMQSimulator('ibmq_qasm_simulator') from IBMQ(hub='ibm-q', group='open', project='main')>,\n",
       " <IBMQBackend('ibmq_lima') from IBMQ(hub='ibm-q', group='open', project='main')>,\n",
       " <IBMQBackend('ibmq_belem') from IBMQ(hub='ibm-q', group='open', project='main')>,\n",
       " <IBMQBackend('ibmq_quito') from IBMQ(hub='ibm-q', group='open', project='main')>,\n",
       " <IBMQSimulator('simulator_statevector') from IBMQ(hub='ibm-q', group='open', project='main')>,\n",
       " <IBMQSimulator('simulator_mps') from IBMQ(hub='ibm-q', group='open', project='main')>,\n",
       " <IBMQSimulator('simulator_extended_stabilizer') from IBMQ(hub='ibm-q', group='open', project='main')>,\n",
       " <IBMQSimulator('simulator_stabilizer') from IBMQ(hub='ibm-q', group='open', project='main')>,\n",
       " <IBMQBackend('ibmq_jakarta') from IBMQ(hub='ibm-q', group='open', project='main')>,\n",
       " <IBMQBackend('ibmq_manila') from IBMQ(hub='ibm-q', group='open', project='main')>,\n",
       " <IBMQBackend('ibm_lagos') from IBMQ(hub='ibm-q', group='open', project='main')>,\n",
       " <IBMQBackend('ibm_nairobi') from IBMQ(hub='ibm-q', group='open', project='main')>,\n",
       " <IBMQBackend('ibm_perth') from IBMQ(hub='ibm-q', group='open', project='main')>]"
      ]
     },
     "execution_count": 7,
     "metadata": {},
     "output_type": "execute_result"
    }
   ],
   "source": [
    "provider.backends()"
   ]
  },
  {
   "cell_type": "code",
   "execution_count": 9,
   "id": "7c7e7f54-020e-428a-a83b-6266a0442e3f",
   "metadata": {
    "tags": []
   },
   "outputs": [
    {
     "name": "stdout",
     "output_type": "stream",
     "text": [
      "None\n",
      "<qiskit.providers.models.backendproperties.BackendProperties object at 0x7f9e5f489000>\n",
      "<qiskit.providers.models.backendproperties.BackendProperties object at 0x7f9e5af83a60>\n",
      "<qiskit.providers.models.backendproperties.BackendProperties object at 0x7f9e5af9dc90>\n",
      "None\n",
      "None\n",
      "None\n",
      "None\n",
      "<qiskit.providers.models.backendproperties.BackendProperties object at 0x7f9e5afb7e80>\n",
      "<qiskit.providers.models.backendproperties.BackendProperties object at 0x7f9e5afe6440>\n",
      "<qiskit.providers.models.backendproperties.BackendProperties object at 0x7f9e5b004640>\n",
      "<qiskit.providers.models.backendproperties.BackendProperties object at 0x7f9e5b02abc0>\n",
      "<qiskit.providers.models.backendproperties.BackendProperties object at 0x7f9e5b051180>\n"
     ]
    }
   ],
   "source": [
    "for backend in provider.backends():\n",
    "    print(backend.properties())"
   ]
  },
  {
   "cell_type": "code",
   "execution_count": 12,
   "id": "b40b7c5a-8a09-4cba-9a4c-68820d436fd4",
   "metadata": {
    "tags": []
   },
   "outputs": [
    {
     "name": "stdout",
     "output_type": "stream",
     "text": [
      "ibmq_qasm_simulator : simulated & 0\n",
      "ibmq_lima : 5 & 143\n",
      "ibmq_belem : 5 & 222\n",
      "ibmq_quito : 5 & 447\n",
      "simulator_statevector : simulated & 0\n",
      "simulator_mps : simulated & 0\n",
      "simulator_extended_stabilizer : simulated & 0\n",
      "simulator_stabilizer : simulated & 0\n",
      "ibmq_jakarta : 7 & 27\n",
      "ibmq_manila : 5 & 5080\n",
      "ibm_lagos : 7 & 219\n",
      "ibm_nairobi : 7 & 5\n",
      "ibm_perth : 7 & 59\n"
     ]
    }
   ],
   "source": [
    "for backend in provider.backends():\n",
    "    try:\n",
    "        qubit_count = len(backend.properties().qubits)\n",
    "    except:\n",
    "        qubit_count = \"simulated\"\n",
    "    print(f\"{backend.name()} : {qubit_count} & {backend.status().pending_jobs}\")"
   ]
  },
  {
   "cell_type": "code",
   "execution_count": null,
   "id": "a26a862d-31ac-4e31-9d1c-e295fce9cd1d",
   "metadata": {},
   "outputs": [],
   "source": [
    "\""
   ]
  }
 ],
 "metadata": {
  "kernelspec": {
   "display_name": "Python 3 (ipykernel)",
   "language": "python",
   "name": "python3"
  },
  "language_info": {
   "codemirror_mode": {
    "name": "ipython",
    "version": 3
   },
   "file_extension": ".py",
   "mimetype": "text/x-python",
   "name": "python",
   "nbconvert_exporter": "python",
   "pygments_lexer": "ipython3",
   "version": "3.10.8"
  },
  "widgets": {
   "application/vnd.jupyter.widget-state+json": {
    "state": {
     "0a05771b3397456e873e6594d81d6335": {
      "model_module": "@jupyter-widgets/base",
      "model_module_version": "2.0.0",
      "model_name": "LayoutModel",
      "state": {
       "width": "70px"
      }
     },
     "12b285995c424068a33efa5ffa7e1b2b": {
      "model_module": "@jupyter-widgets/controls",
      "model_module_version": "2.0.0",
      "model_name": "HTMLModel",
      "state": {
       "layout": "IPY_MODEL_fd0f4e5db6374380bfeca8823f60a2b5",
       "style": "IPY_MODEL_2c8d8c948bf54a18b9ac6a00ee4106d5",
       "value": "<h5>Status</h5>"
      }
     },
     "1d97c09c0c84438bb565bfcb01b88726": {
      "model_module": "@jupyter-widgets/controls",
      "model_module_version": "2.0.0",
      "model_name": "HTMLModel",
      "state": {
       "layout": "IPY_MODEL_5e27ae498e484a418877292554bce83a",
       "style": "IPY_MODEL_adf5e0c150e6429fa3e91501eaaa68af",
       "value": "<h5>Job ID</h5>"
      }
     },
     "2c8d8c948bf54a18b9ac6a00ee4106d5": {
      "model_module": "@jupyter-widgets/controls",
      "model_module_version": "2.0.0",
      "model_name": "HTMLStyleModel",
      "state": {
       "description_width": "",
       "font_size": null,
       "text_color": null
      }
     },
     "37e404e3ae944c45a55d32e3b98551c8": {
      "model_module": "@jupyter-widgets/controls",
      "model_module_version": "2.0.0",
      "model_name": "ButtonModel",
      "state": {
       "button_style": "primary",
       "description": "Clear",
       "layout": "IPY_MODEL_dafeb48d4f094f039c1ff5dcf2a7d554",
       "style": "IPY_MODEL_86a04afe583b431b88d80f575a9ab6c2",
       "tooltip": null
      }
     },
     "37ec4d6db6544099a6f1b8928ddece6b": {
      "model_module": "@jupyter-widgets/base",
      "model_module_version": "2.0.0",
      "model_name": "LayoutModel",
      "state": {
       "margin": "0px 0px 10px 0px"
      }
     },
     "42bf2b6a6a124620b649e59e95d1c5e1": {
      "model_module": "@jupyter-widgets/base",
      "model_module_version": "2.0.0",
      "model_name": "LayoutModel",
      "state": {}
     },
     "52f443653eb44930a1bcbdf77816c98d": {
      "model_module": "@jupyter-widgets/controls",
      "model_module_version": "2.0.0",
      "model_name": "HTMLModel",
      "state": {
       "layout": "IPY_MODEL_37ec4d6db6544099a6f1b8928ddece6b",
       "style": "IPY_MODEL_a5e6c91bfb504b3597437c54b0f0d04a",
       "value": "<p style='font-family: IBM Plex Sans, Arial, Helvetica, sans-serif; font-size: 20px; font-weight: medium;'>Circuit Properties</p>"
      }
     },
     "5e27ae498e484a418877292554bce83a": {
      "model_module": "@jupyter-widgets/base",
      "model_module_version": "2.0.0",
      "model_name": "LayoutModel",
      "state": {
       "width": "190px"
      }
     },
     "64ef032f4d0d471199d746e1b0bfa865": {
      "model_module": "@jupyter-widgets/controls",
      "model_module_version": "2.0.0",
      "model_name": "HTMLModel",
      "state": {
       "layout": "IPY_MODEL_0a05771b3397456e873e6594d81d6335",
       "style": "IPY_MODEL_e8121348f49c4a498676ee8c93978e7f",
       "value": "<h5>Queue</h5>"
      }
     },
     "753ae64907d14822b5d77b56b37add73": {
      "model_module": "@jupyter-widgets/controls",
      "model_module_version": "2.0.0",
      "model_name": "HBoxModel",
      "state": {
       "children": [
        "IPY_MODEL_1d97c09c0c84438bb565bfcb01b88726",
        "IPY_MODEL_c5b105f9ff0e4aa796bc34828b3e61b5",
        "IPY_MODEL_12b285995c424068a33efa5ffa7e1b2b",
        "IPY_MODEL_64ef032f4d0d471199d746e1b0bfa865",
        "IPY_MODEL_ddaf0cf66a904be98a5808f876599c37"
       ],
       "layout": "IPY_MODEL_8f751d418a8d4dcbbf1b1ef09819ebc1"
      }
     },
     "86a04afe583b431b88d80f575a9ab6c2": {
      "model_module": "@jupyter-widgets/controls",
      "model_module_version": "2.0.0",
      "model_name": "ButtonStyleModel",
      "state": {
       "font_family": null,
       "font_size": null,
       "font_style": null,
       "font_variant": null,
       "font_weight": null,
       "text_color": null,
       "text_decoration": null
      }
     },
     "8f751d418a8d4dcbbf1b1ef09819ebc1": {
      "model_module": "@jupyter-widgets/base",
      "model_module_version": "2.0.0",
      "model_name": "LayoutModel",
      "state": {
       "margin": "0px 0px 0px 37px",
       "width": "600px"
      }
     },
     "94c435f949c44adba5f10e6b0f7455ea": {
      "model_module": "@jupyter-widgets/controls",
      "model_module_version": "2.0.0",
      "model_name": "HTMLStyleModel",
      "state": {
       "description_width": "",
       "font_size": null,
       "text_color": null
      }
     },
     "a5e6c91bfb504b3597437c54b0f0d04a": {
      "model_module": "@jupyter-widgets/controls",
      "model_module_version": "2.0.0",
      "model_name": "HTMLStyleModel",
      "state": {
       "description_width": "",
       "font_size": null,
       "text_color": null
      }
     },
     "adf5e0c150e6429fa3e91501eaaa68af": {
      "model_module": "@jupyter-widgets/controls",
      "model_module_version": "2.0.0",
      "model_name": "HTMLStyleModel",
      "state": {
       "description_width": "",
       "font_size": null,
       "text_color": null
      }
     },
     "bc5707036f3342b9906a874bf4ab159f": {
      "model_module": "@jupyter-widgets/base",
      "model_module_version": "2.0.0",
      "model_name": "LayoutModel",
      "state": {
       "grid_template_areas": "\n                                       \". . . . right \"\n                                        ",
       "grid_template_columns": "20% 20% 20% 20% 20%",
       "width": "100%"
      }
     },
     "c0641f93228e402797421a8271384e56": {
      "model_module": "@jupyter-widgets/controls",
      "model_module_version": "2.0.0",
      "model_name": "GridBoxModel",
      "state": {
       "children": [
        "IPY_MODEL_37e404e3ae944c45a55d32e3b98551c8"
       ],
       "layout": "IPY_MODEL_bc5707036f3342b9906a874bf4ab159f"
      }
     },
     "c5b105f9ff0e4aa796bc34828b3e61b5": {
      "model_module": "@jupyter-widgets/controls",
      "model_module_version": "2.0.0",
      "model_name": "HTMLModel",
      "state": {
       "layout": "IPY_MODEL_e8f6cf588e694f27b5dc8f4bbaa1dc5e",
       "style": "IPY_MODEL_e1e701b23dca493fa7e33db73c2bea8e",
       "value": "<h5>Backend</h5>"
      }
     },
     "dafeb48d4f094f039c1ff5dcf2a7d554": {
      "model_module": "@jupyter-widgets/base",
      "model_module_version": "2.0.0",
      "model_name": "LayoutModel",
      "state": {
       "grid_area": "right",
       "padding": "0px 0px 0px 0px",
       "width": "70px"
      }
     },
     "ddaf0cf66a904be98a5808f876599c37": {
      "model_module": "@jupyter-widgets/controls",
      "model_module_version": "2.0.0",
      "model_name": "HTMLModel",
      "state": {
       "layout": "IPY_MODEL_42bf2b6a6a124620b649e59e95d1c5e1",
       "style": "IPY_MODEL_94c435f949c44adba5f10e6b0f7455ea",
       "value": "<h5>Message</h5>"
      }
     },
     "e1e701b23dca493fa7e33db73c2bea8e": {
      "model_module": "@jupyter-widgets/controls",
      "model_module_version": "2.0.0",
      "model_name": "HTMLStyleModel",
      "state": {
       "description_width": "",
       "font_size": null,
       "text_color": null
      }
     },
     "e8121348f49c4a498676ee8c93978e7f": {
      "model_module": "@jupyter-widgets/controls",
      "model_module_version": "2.0.0",
      "model_name": "HTMLStyleModel",
      "state": {
       "description_width": "",
       "font_size": null,
       "text_color": null
      }
     },
     "e8f6cf588e694f27b5dc8f4bbaa1dc5e": {
      "model_module": "@jupyter-widgets/base",
      "model_module_version": "2.0.0",
      "model_name": "LayoutModel",
      "state": {
       "width": "145px"
      }
     },
     "fd0f4e5db6374380bfeca8823f60a2b5": {
      "model_module": "@jupyter-widgets/base",
      "model_module_version": "2.0.0",
      "model_name": "LayoutModel",
      "state": {
       "width": "95px"
      }
     }
    },
    "version_major": 2,
    "version_minor": 0
   }
  }
 },
 "nbformat": 4,
 "nbformat_minor": 5
}
