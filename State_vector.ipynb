{
 "cells": [
  {
   "cell_type": "code",
   "execution_count": null,
   "metadata": {},
   "outputs": [],
   "source": [
    "from qiskit import QuantumCircuit, Aer, transpile, assemble, QuantumRegister\n",
    "import numpy as np\n",
    "\n",
    "def unary_amplitude_encoding(qc, data):\n",
    "    \"\"\"\n",
    "    Unary amplitude encoding of a classical data vector into a quantum state.\n",
    "\n",
    "    Parameters:\n",
    "        qc (QuantumCircuit): Quantum circuit to apply the encoding.\n",
    "        data (np.ndarray): 1D array representing the classical data vector.\n",
    "    \"\"\"\n",
    "    for i, value in enumerate(data):\n",
    "        angle = 2 * np.arcsin(np.sqrt(value))  # Amplitude encoding angle\n",
    "        qc.ry(angle, i)\n",
    "\n",
    "# Example input vector\n",
    "input_vector = np.array([0.2, 0.5, 0.3])\n",
    "\n",
    "# Define quantum circuit\n",
    "num_qubits = len(input_vector)\n",
    "qc = QuantumCircuit(num_qubits)\n",
    "\n",
    "# Apply unary amplitude encoding\n",
    "unary_amplitude_encoding(qc, input_vector)\n",
    "\n",
    "# Display the circuit\n",
    "print(qc)\n",
    "\n",
    "# Simulate the circuit\n",
    "backend = Aer.get_backend('statevector_simulator')\n",
    "tqc = transpile(qc, backend)\n",
    "qobj = assemble(tqc)\n",
    "result = backend.run(qobj).result()\n",
    "\n",
    "# Get the final statevector\n",
    "final_statevector = result.get_statevector()\n",
    "print(\"\\nFinal Statevector:\", final_statevector)"
   ]
  }
 ],
 "metadata": {
  "language_info": {
   "name": "python"
  }
 },
 "nbformat": 4,
 "nbformat_minor": 2
}
